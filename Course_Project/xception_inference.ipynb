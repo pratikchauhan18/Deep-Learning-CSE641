{
  "cells": [
    {
      "cell_type": "markdown",
      "metadata": {
        "id": "m0X1rlxkpYR0"
      },
      "source": [
        "# **Inference Model**"
      ]
    },
    {
      "cell_type": "code",
      "execution_count": 1,
      "metadata": {
        "id": "f2MsQuAWpk4y"
      },
      "outputs": [],
      "source": [
        "# importing libraries\n",
        "import os\n",
        "import glob\n",
        "import time\n",
        "import numpy as np\n",
        "import pandas as pd\n",
        "import tensorflow as tf\n",
        "import seaborn as sns\n",
        "import matplotlib.pyplot as plt\n",
        "from keras import backend as K\n",
        "from tensorflow.keras.models import Model\n",
        "from keras.utils.vis_utils import plot_model\n",
        "from tensorflow.keras.preprocessing.image import ImageDataGenerator\n",
        "from tensorflow.keras.layers import Dense, GlobalAveragePooling2D, Dropout\n",
        "from tensorflow.keras.applications.xception import Xception, preprocess_input  \n",
        "from tensorflow.keras.callbacks import ModelCheckpoint, TensorBoard, CSVLogger, EarlyStopping\n",
        "from sklearn.metrics import classification_report, precision_score, recall_score, f1_score, confusion_matrix"
      ]
    },
    {
      "cell_type": "code",
      "execution_count": null,
      "metadata": {},
      "outputs": [],
      "source": [
        "def get_f1_score(y_true, y_pred): \n",
        "  true_positives = K.sum(K.round(K.clip(y_true * y_pred, 0, 1)))\n",
        "  possible_positives = K.sum(K.round(K.clip(y_true, 0, 1)))\n",
        "  predicted_positives = K.sum(K.round(K.clip(y_pred, 0, 1)))\n",
        "  precision = true_positives / (predicted_positives + K.epsilon())\n",
        "  recall = true_positives / (possible_positives + K.epsilon()) \n",
        "  f1_val = 2*(precision*recall)/(precision+recall+K.epsilon())\n",
        "  return f1_val"
      ]
    },
    {
      "cell_type": "code",
      "execution_count": 11,
      "metadata": {
        "id": "71WCf58FplU4"
      },
      "outputs": [],
      "source": [
        "# method to load the model\n",
        "def load_model():\n",
        "  model = keras.models.load_model('Xception.h5', custom_objects={'get_f1_score': get_f1_score})\n",
        "  return model"
      ]
    },
    {
      "cell_type": "code",
      "execution_count": 3,
      "metadata": {
        "id": "9WIJG-wZpo6I"
      },
      "outputs": [],
      "source": [
        "# loading the testset\n",
        "def load_test_set(TEST_DIR):\n",
        "  test_data_generator = ImageDataGenerator(preprocessing_function = preprocess_input)\n",
        "  test_loader = test_data_generator.flow_from_directory(TEST_DIR,\n",
        "                                                  target_size = (128, 128),\n",
        "                                                  color_mode = \"rgb\",\n",
        "                                                  shuffle = False,\n",
        "                                                  class_mode = 'categorical',\n",
        "                                                  batch_size = 64)\n",
        "  activity_list = test_loader.class_indices\n",
        "  return test_loader, activity_list"
      ]
    },
    {
      "cell_type": "code",
      "execution_count": 6,
      "metadata": {
        "id": "33ZeuNYvpuc-"
      },
      "outputs": [],
      "source": [
        "def get_activity(val, activities):\n",
        "    for key, value in activities.items():\n",
        "        if val == value:\n",
        "            return key\n",
        "\n",
        "    return \"Invalid\""
      ]
    },
    {
      "cell_type": "code",
      "execution_count": 8,
      "metadata": {
        "id": "nU8FGPoQpyKI"
      },
      "outputs": [],
      "source": [
        "# method to make prediction from whole test set images\n",
        "def predict_test(loader, model, activity_list):\n",
        "  filenames = loader.filenames\n",
        "  samples = len(filenames)\n",
        "  predictions = model.predict(loader, verbose = 1)\n",
        "\n",
        "  y_pred = []\n",
        "  for val in predictions:\n",
        "      y_pred.append(get_activity(np.argmax(val), activity_list))\n",
        "\n",
        "  y_true = []\n",
        "  for file in filenames:\n",
        "      y_true.append(file.split(\"\\\\\")[0].split('/')[0])\n",
        "\n",
        "  print(classification_report(y_pred, y_true))\n",
        "  return"
      ]
    },
    {
      "cell_type": "code",
      "execution_count": 12,
      "metadata": {
        "colab": {
          "base_uri": "https://localhost:8080/"
        },
        "id": "t7JuRHCep2rD",
        "outputId": "7e2a4330-72be-4dbe-ef92-28cbd18d1064"
      },
      "outputs": [
        {
          "name": "stdout",
          "output_type": "stream",
          "text": [
            "Found 7500 images belonging to 50 classes.\n",
            "\n",
            "\n",
            " 118/7500 [..............................] - ETA: 17:17"
          ]
        },
        {
          "name": "stderr",
          "output_type": "stream",
          "text": [
            "WARNING:tensorflow:Your input ran out of data; interrupting training. Make sure that your dataset or generator can generate at least `steps_per_epoch * epochs` batches (in this case, 7500 batches). You may need to use the repeat() function when building your dataset.\n"
          ]
        },
        {
          "name": "stdout",
          "output_type": "stream",
          "text": [
            "\b\b\b\b\b\b\b\b\b\b\b\b\b\b\b\b\b\b\b\b\b\b\b\b\b\b\b\b\b\b\b\b\b\b\b\b\b\b\b\b\b\b\b\b\b\b\b\b\b\b\b\b\b\b\b\r7500/7500 [==============================] - 20s 2ms/step\n",
            "                    precision    recall  f1-score   support\n",
            "\n",
            "     BaseballPitch       0.91      0.90      0.90       151\n",
            "        Basketball       0.83      0.80      0.82       156\n",
            "        BenchPress       1.00      0.94      0.97       159\n",
            "            Biking       0.85      0.86      0.86       147\n",
            "         Billiards       1.00      1.00      1.00       150\n",
            "      BreastStroke       0.98      0.98      0.98       150\n",
            "      CleanAndJerk       0.93      0.97      0.95       143\n",
            "            Diving       0.93      0.95      0.94       148\n",
            "          Drumming       1.00      0.96      0.98       156\n",
            "           Fencing       0.94      0.94      0.94       150\n",
            "         GolfSwing       0.89      0.83      0.86       160\n",
            "          HighJump       0.72      0.77      0.74       141\n",
            "         HorseRace       0.96      0.96      0.96       150\n",
            "       HorseRiding       0.89      0.92      0.91       146\n",
            "          HulaHoop       0.88      0.99      0.93       133\n",
            "      JavelinThrow       0.81      0.80      0.80       151\n",
            "     JugglingBalls       0.90      0.95      0.92       142\n",
            "          JumpRope       0.93      0.93      0.93       149\n",
            "       JumpingJack       0.93      0.96      0.95       146\n",
            "          Kayaking       0.89      0.93      0.91       143\n",
            "            Lunges       0.83      0.88      0.85       141\n",
            "    MilitaryParade       0.97      0.96      0.96       151\n",
            "            Mixing       0.97      0.99      0.98       148\n",
            "         Nunchucks       0.95      0.93      0.94       152\n",
            "      PizzaTossing       0.81      0.86      0.83       141\n",
            "     PlayingGuitar       0.97      0.98      0.98       149\n",
            "      PlayingPiano       0.93      0.99      0.96       141\n",
            "      PlayingTabla       1.00      0.99      1.00       151\n",
            "     PlayingViolin       0.96      0.95      0.95       152\n",
            "         PoleVault       0.75      0.79      0.77       143\n",
            "       PommelHorse       0.99      0.98      0.98       151\n",
            "           PullUps       0.95      0.96      0.96       149\n",
            "             Punch       0.97      0.95      0.96       152\n",
            "           PushUps       0.95      0.97      0.96       147\n",
            "RockClimbingIndoor       0.99      0.95      0.97       155\n",
            "      RopeClimbing       0.86      0.85      0.85       152\n",
            "            Rowing       0.91      0.95      0.93       144\n",
            "         SalsaSpin       0.96      0.93      0.94       155\n",
            "     SkateBoarding       0.92      0.85      0.88       163\n",
            "            Skiing       0.91      0.87      0.89       157\n",
            "            Skijet       0.93      0.88      0.90       160\n",
            "    SoccerJuggling       0.79      0.89      0.84       134\n",
            "             Swing       0.89      0.98      0.93       136\n",
            "            TaiChi       0.95      0.92      0.93       156\n",
            "       TennisSwing       0.96      0.91      0.93       159\n",
            "       ThrowDiscus       0.89      0.89      0.89       149\n",
            " TrampolineJumping       0.91      0.94      0.93       144\n",
            " VolleyballSpiking       0.87      0.97      0.92       135\n",
            "    WalkingWithDog       0.89      0.63      0.74       213\n",
            "              YoYo       0.94      0.95      0.94       149\n",
            "\n",
            "          accuracy                           0.91      7500\n",
            "         macro avg       0.91      0.92      0.92      7500\n",
            "      weighted avg       0.92      0.91      0.91      7500\n",
            "\n"
          ]
        }
      ],
      "source": [
        "# main method\n",
        "if __name__ == '__main__':\n",
        "  TEST_DIR = r\"E:\\M_TECH ASSIGNMENTS\\Deep Learning\\Course Project\\final_deliveries\\image_testing_set\\content\\testing_set\"\n",
        "  model = load_model()\n",
        "  test_set, activity_list = load_test_set(TEST_DIR)\n",
        "\n",
        "  print('\\n')\n",
        "  \n",
        "  # if you want to test whole set\n",
        "  predict_test(test_set, model, activity_list)"
      ]
    },
    {
      "cell_type": "code",
      "execution_count": 16,
      "metadata": {
        "colab": {
          "base_uri": "https://localhost:8080/"
        },
        "id": "P8q58gYEYGrn",
        "outputId": "aa0a04c4-5850-472e-b9c2-004ecb762d49"
      },
      "outputs": [
        {
          "name": "stdout",
          "output_type": "stream",
          "text": [
            "118/118 [==============================] - 18s 139ms/step - loss: 0.3239 - accuracy: 0.9967 - precision: 0.9645 - recall: 0.8651 - auc: 0.9978 - get_f1_score: 0.9095\n"
          ]
        },
        {
          "data": {
            "text/plain": [
              "[0.32386496663093567,\n",
              " 0.9966639876365662,\n",
              " 0.9644715189933777,\n",
              " 0.865066647529602,\n",
              " 0.997793436050415,\n",
              " 0.9095377922058105]"
            ]
          },
          "execution_count": 16,
          "metadata": {},
          "output_type": "execute_result"
        }
      ],
      "source": [
        "model.evaluate(test_set)"
      ]
    }
  ],
  "metadata": {
    "accelerator": "GPU",
    "colab": {
      "collapsed_sections": [
        "tR4GxNO8jXw4",
        "-efDH1gz7AcT",
        "m0X1rlxkpYR0"
      ],
      "provenance": []
    },
    "gpuClass": "standard",
    "kernelspec": {
      "display_name": "Python 3",
      "language": "python",
      "name": "python3"
    },
    "language_info": {
      "codemirror_mode": {
        "name": "ipython",
        "version": 3
      },
      "file_extension": ".py",
      "mimetype": "text/x-python",
      "name": "python",
      "nbconvert_exporter": "python",
      "pygments_lexer": "ipython3",
      "version": "3.6.4"
    }
  },
  "nbformat": 4,
  "nbformat_minor": 0
}
