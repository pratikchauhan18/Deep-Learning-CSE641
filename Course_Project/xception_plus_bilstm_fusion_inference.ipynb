{
  "cells": [
    {
      "cell_type": "code",
      "execution_count": null,
      "metadata": {
        "id": "ktz-COO5NqsL"
      },
      "outputs": [],
      "source": [
        "!unzip '/content/drive/MyDrive/DL_Project_Data/UCF50.zip'"
      ]
    },
    {
      "cell_type": "code",
      "execution_count": 50,
      "metadata": {
        "id": "QJmFXtb7Ls1C"
      },
      "outputs": [],
      "source": [
        "# importing the libraries\n",
        "from sklearn.model_selection import train_test_split\n",
        "from tensorflow.keras.applications.xception import Xception, preprocess_input  \n",
        "import matplotlib.pyplot as plt\n",
        "from tabulate import tabulate\n",
        "from tensorflow import keras\n",
        "import tensorflow as tf\n",
        "import pandas as pd\n",
        "import numpy as np\n",
        "import pickle\n",
        "\n",
        "tf.get_logger().setLevel('INFO')"
      ]
    },
    {
      "cell_type": "code",
      "execution_count": 51,
      "metadata": {
        "id": "hnsFbNWyL575"
      },
      "outputs": [],
      "source": [
        "def load_files():\n",
        "  with open('/content/drive/MyDrive/Final_Deliveries/test/xception_test_data.pkl', 'rb') as file:\n",
        "      test_data = pickle.load(file)\n",
        "\n",
        "  with open('/content/drive/MyDrive/Final_Deliveries/test/xception_test_labels.pkl', 'rb') as file:\n",
        "      test_labels = pickle.load(file)\n",
        "\n",
        "  return (test_data, test_labels)"
      ]
    },
    {
      "cell_type": "code",
      "execution_count": 52,
      "metadata": {
        "id": "Kqbi3yCfMSy7"
      },
      "outputs": [],
      "source": [
        "# Define hyperparameters\n",
        "IMG_SIZE = 224\n",
        "BATCH_SIZE = 32\n",
        "\n",
        "MAX_SEQ_LENGTH = 20\n",
        "NUM_FEATURES = 2048"
      ]
    },
    {
      "cell_type": "code",
      "execution_count": 53,
      "metadata": {
        "id": "nbNSdrabPGmX"
      },
      "outputs": [],
      "source": [
        "def build_feature_extractor():\n",
        "    feature_extractor = Xception(\n",
        "        weights=\"imagenet\",\n",
        "        include_top=False,\n",
        "        pooling=\"avg\",\n",
        "        input_shape=(IMG_SIZE, IMG_SIZE, 3),\n",
        "    )\n",
        "\n",
        "    inputs = keras.Input((IMG_SIZE, IMG_SIZE, 3))\n",
        "    preprocessed = preprocess_input(inputs)\n",
        "\n",
        "    outputs = feature_extractor(preprocessed)\n",
        "    return keras.Model(inputs, outputs, name=\"feature_extractor\")"
      ]
    },
    {
      "cell_type": "code",
      "execution_count": 54,
      "metadata": {
        "id": "0kBCAAlRQ5RJ"
      },
      "outputs": [],
      "source": [
        "IMG_SIZE = 224\n",
        "\n",
        "def load_video(path, max_frames=0, resize=(IMG_SIZE, IMG_SIZE)):\n",
        "    cap = cv2.VideoCapture(path)\n",
        "    frames = []\n",
        "    try:\n",
        "        while True:\n",
        "            ret, frame = cap.read()\n",
        "            if not ret:\n",
        "                break\n",
        "\n",
        "            frame = cv2.resize(frame, resize)\n",
        "            frame = frame[:, :, [2, 1, 0]]\n",
        "            frames.append(frame)\n",
        "\n",
        "            if len(frames) == max_frames:\n",
        "                break\n",
        "    finally:\n",
        "        cap.release()\n",
        "        \n",
        "    return np.array(frames)"
      ]
    },
    {
      "cell_type": "code",
      "execution_count": 55,
      "metadata": {
        "id": "ISTWbsPdPJ_c"
      },
      "outputs": [],
      "source": [
        "def load_sequence_model():\n",
        "  model = keras.models.load_model('/content/drive/MyDrive/Final_Deliveries/xception_plus_bilstm')\n",
        "  return model"
      ]
    },
    {
      "cell_type": "code",
      "execution_count": 56,
      "metadata": {
        "id": "igp-N03hvSei"
      },
      "outputs": [],
      "source": [
        "def prepare_single_video(frames, feature_extractor):\n",
        "    frames = frames[None, ...]\n",
        "    frame_mask = np.zeros(shape=(1, MAX_SEQ_LENGTH,), dtype=\"bool\")\n",
        "    frame_features = np.zeros(shape=(1, MAX_SEQ_LENGTH, NUM_FEATURES), dtype=\"float32\")\n",
        "\n",
        "    for i, batch in enumerate(frames):\n",
        "        video_length = batch.shape[0]\n",
        "        length = min(MAX_SEQ_LENGTH, video_length)\n",
        "        for j in range(length):\n",
        "            frame_features[i, j, :] = feature_extractor.predict(batch[None, j, :], verbose=0)\n",
        "        frame_mask[i, :length] = 1\n",
        "\n",
        "    return frame_features, frame_mask\n",
        "\n",
        "def sequence_prediction(path, label_processor, sequence_model, feature_extractor):\n",
        "    class_vocab = label_processor.get_vocabulary()\n",
        "    \n",
        "    output = [['Class', 'Percentage of Belonging (in %)']]\n",
        "    frames = load_video('/content/' + os.path.join(\"test\", path))\n",
        "    frame_features, frame_mask = prepare_single_video(frames, feature_extractor)\n",
        "    probabilities = sequence_model.predict([frame_features, frame_mask], verbose=0)[0]\n",
        "\n",
        "    print(\"Probabilities of Each Class: \\n\")\n",
        "    for i in np.argsort(probabilities)[::-1]:\n",
        "        output.append([class_vocab[i], probabilities[i] * 100])\n",
        "\n",
        "    print(tabulate(output, headers='firstrow', tablefmt='github'))\n",
        "    return frames"
      ]
    },
    {
      "cell_type": "code",
      "execution_count": 57,
      "metadata": {
        "id": "o2iQ67kCR9lD"
      },
      "outputs": [],
      "source": [
        "feature_extractor, sequence_model = build_feature_extractor(), load_sequence_model()"
      ]
    },
    {
      "cell_type": "code",
      "execution_count": 58,
      "metadata": {
        "colab": {
          "base_uri": "https://localhost:8080/"
        },
        "id": "gu3VrsH0MhDz",
        "outputId": "f325bee4-ee63-468f-c0de-f44a110e206a"
      },
      "outputs": [
        {
          "name": "stdout",
          "output_type": "stream",
          "text": [
            "Test video path: /content/UCF50/VolleyballSpiking/v_VolleyballSpiking_g15_c01.avi\n",
            "\n",
            "Probabilities of Each Class: \n",
            "\n",
            "| Class              |   Percentage of Belonging (in %) |\n",
            "|--------------------|----------------------------------|\n",
            "| VolleyballSpiking  |                     76.288       |\n",
            "| Biking             |                      7.33387     |\n",
            "| PlayingGuitar      |                      3.14022     |\n",
            "| PoleVault          |                      2.46107     |\n",
            "| HighJump           |                      2.27879     |\n",
            "| SalsaSpin          |                      2.22792     |\n",
            "| JumpRope           |                      1.31711     |\n",
            "| Swing              |                      1.13675     |\n",
            "| ThrowDiscus        |                      1.13495     |\n",
            "| HorseRace          |                      0.461444    |\n",
            "| GolfSwing          |                      0.457324    |\n",
            "| RockClimbingIndoor |                      0.298094    |\n",
            "| SoccerJuggling     |                      0.28466     |\n",
            "| RopeClimbing       |                      0.164674    |\n",
            "| Mixing             |                      0.164642    |\n",
            "| JumpingJack        |                      0.146873    |\n",
            "| JavelinThrow       |                      0.135751    |\n",
            "| Basketball         |                      0.110105    |\n",
            "| Skiing             |                      0.095827    |\n",
            "| BaseballPitch      |                      0.0811795   |\n",
            "| TrampolineJumping  |                      0.0611745   |\n",
            "| CleanAndJerk       |                      0.0528866   |\n",
            "| Drumming           |                      0.0513801   |\n",
            "| PizzaTossing       |                      0.0403901   |\n",
            "| PushUps            |                      0.0287796   |\n",
            "| Rowing             |                      0.0111653   |\n",
            "| Lunges             |                      0.0101505   |\n",
            "| TennisSwing        |                      0.00999675  |\n",
            "| Nunchucks          |                      0.00563408  |\n",
            "| Diving             |                      0.00433224  |\n",
            "| HulaHoop           |                      0.0018349   |\n",
            "| YoYo               |                      0.00088007  |\n",
            "| SkateBoarding      |                      0.000689952 |\n",
            "| Kayaking           |                      0.000379743 |\n",
            "| JugglingBalls      |                      0.000279366 |\n",
            "| HorseRiding        |                      0.000277584 |\n",
            "| MilitaryParade     |                      0.000174497 |\n",
            "| Punch              |                      0.000151193 |\n",
            "| PlayingPiano       |                      8.02065e-05 |\n",
            "| BenchPress         |                      5.45579e-05 |\n",
            "| WalkingWithDog     |                      4.84073e-05 |\n",
            "| Fencing            |                      1.49671e-05 |\n",
            "| TaiChi             |                      1.43944e-05 |\n",
            "| PlayingTabla       |                      1.13937e-05 |\n",
            "| PommelHorse        |                      2.21116e-06 |\n",
            "| Skijet             |                      2.05305e-06 |\n",
            "| BreastStroke       |                      1.33589e-06 |\n",
            "| PlayingViolin      |                      1.05133e-06 |\n"
          ]
        }
      ],
      "source": [
        "if __name__ == '__main__':\n",
        "  train_csv = pd.read_csv('/content/drive/MyDrive/DL_Project_Data/train.csv')\n",
        "  testset = pd.read_csv('/content/drive/MyDrive/DL_Project_Data/test.csv')\n",
        "\n",
        "  label_processor = keras.layers.StringLookup(num_oov_indices=0, vocabulary = np.unique(train_csv[\"tag\"]))\n",
        "\n",
        "  test_data, test_labels = load_files()\n",
        "  \n",
        "  test_video = np.random.choice(testset[\"video_name\"].values.tolist())\n",
        "  print(f\"Test video path: {test_video}\\n\")\n",
        "  test_frames = sequence_prediction(test_video, label_processor, sequence_model, feature_extractor)"
      ]
    },
    {
      "cell_type": "code",
      "execution_count": 60,
      "metadata": {
        "colab": {
          "base_uri": "https://localhost:8080/"
        },
        "id": "kayermzTOzMI",
        "outputId": "de62c0d4-b35e-4723-b65b-43810a210586"
      },
      "outputs": [
        {
          "name": "stdout",
          "output_type": "stream",
          "text": [
            "4/4 [==============================] - 6s 16ms/step - loss: 2.2410 - accuracy: 0.5417\n"
          ]
        },
        {
          "data": {
            "text/plain": [
              "[2.240962266921997, 0.5416666865348816]"
            ]
          },
          "execution_count": 60,
          "metadata": {},
          "output_type": "execute_result"
        }
      ],
      "source": [
        "sequence_model.evaluate([test_data[0], test_data[1]], test_labels)"
      ]
    }
  ],
  "metadata": {
    "accelerator": "GPU",
    "colab": {
      "collapsed_sections": [
        "kd8jC38Fukxm"
      ],
      "provenance": []
    },
    "gpuClass": "standard",
    "kernelspec": {
      "display_name": "Python 3",
      "name": "python3"
    },
    "language_info": {
      "name": "python"
    }
  },
  "nbformat": 4,
  "nbformat_minor": 0
}
